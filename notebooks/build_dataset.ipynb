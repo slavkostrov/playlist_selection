{
 "cells": [
  {
   "cell_type": "code",
   "execution_count": 1,
   "metadata": {},
   "outputs": [],
   "source": [
    "\"\"\"Build initial dataset and write it to S3.\"\"\"\n",
    "import time\n",
    "\n",
    "import pandas as pd\n",
    "\n",
    "from playlist_selection.downloading import YouTubeDownloader\n",
    "from playlist_selection.parsing import SpotifyParser\n",
    "\n",
    "with open(\"../data/tracks.txt\") as fin:\n",
    "    tracks = [list(map(str.strip, line.split(\"\\t\"))) for line in fin.readlines()]\n",
    "    \n",
    "tracks_df = pd.DataFrame(tracks, columns=[\"genre\", \"name\", \"artist\"])"
   ]
  },
  {
   "cell_type": "code",
   "execution_count": 2,
   "metadata": {},
   "outputs": [
    {
     "data": {
      "text/html": [
       "<div>\n",
       "<style scoped>\n",
       "    .dataframe tbody tr th:only-of-type {\n",
       "        vertical-align: middle;\n",
       "    }\n",
       "\n",
       "    .dataframe tbody tr th {\n",
       "        vertical-align: top;\n",
       "    }\n",
       "\n",
       "    .dataframe thead th {\n",
       "        text-align: right;\n",
       "    }\n",
       "</style>\n",
       "<table border=\"1\" class=\"dataframe\">\n",
       "  <thead>\n",
       "    <tr style=\"text-align: right;\">\n",
       "      <th></th>\n",
       "      <th>genre</th>\n",
       "      <th>name</th>\n",
       "      <th>artist</th>\n",
       "    </tr>\n",
       "  </thead>\n",
       "  <tbody>\n",
       "    <tr>\n",
       "      <th>26181</th>\n",
       "      <td>reggaeton</td>\n",
       "      <td>LA DROGA</td>\n",
       "      <td>Bad Bunny</td>\n",
       "    </tr>\n",
       "    <tr>\n",
       "      <th>16566</th>\n",
       "      <td>indie</td>\n",
       "      <td>Crossfire</td>\n",
       "      <td>Brandon Flowers</td>\n",
       "    </tr>\n",
       "    <tr>\n",
       "      <th>3229</th>\n",
       "      <td>breakbeat</td>\n",
       "      <td>Believe</td>\n",
       "      <td>The Chemical Brothers</td>\n",
       "    </tr>\n",
       "    <tr>\n",
       "      <th>20493</th>\n",
       "      <td>mandopop</td>\n",
       "      <td>夜色</td>\n",
       "      <td>Teresa Teng</td>\n",
       "    </tr>\n",
       "    <tr>\n",
       "      <th>15610</th>\n",
       "      <td>house</td>\n",
       "      <td>Blackwater - radio edit 128 strings mix</td>\n",
       "      <td>Octave One</td>\n",
       "    </tr>\n",
       "  </tbody>\n",
       "</table>\n",
       "</div>"
      ],
      "text/plain": [
       "           genre                                     name  \\\n",
       "26181  reggaeton                                 LA DROGA   \n",
       "16566      indie                                Crossfire   \n",
       "3229   breakbeat                                  Believe   \n",
       "20493   mandopop                                       夜色   \n",
       "15610      house  Blackwater - radio edit 128 strings mix   \n",
       "\n",
       "                      artist  \n",
       "26181              Bad Bunny  \n",
       "16566        Brandon Flowers  \n",
       "3229   The Chemical Brothers  \n",
       "20493            Teresa Teng  \n",
       "15610             Octave One  "
      ]
     },
     "execution_count": 2,
     "metadata": {},
     "output_type": "execute_result"
    }
   ],
   "source": [
    "tracks_df.sample(5)"
   ]
  },
  {
   "cell_type": "code",
   "execution_count": 4,
   "metadata": {},
   "outputs": [],
   "source": [
    "CLIENT_ID = \"\"\n",
    "CLIENT_SECRET = \"\"\n",
    "HOST = \"storage.yandexcloud.net\"\n",
    "SCHEMA = \"https\"\n",
    "AWS_ACCESS_KEY_ID = \"\" \n",
    "AWS_SECRET_ACCESS_KEY = \"\"\n",
    "BUCKET_NAME = \"hse-project-playlist-selection\"\n",
    "\n",
    "parser = SpotifyParser(\n",
    "    client_id=CLIENT_ID,\n",
    "    client_secret=CLIENT_SECRET,\n",
    ")\n",
    "\n",
    "downloader = YouTubeDownloader()"
   ]
  },
  {
   "cell_type": "code",
   "execution_count": 5,
   "metadata": {},
   "outputs": [
    {
     "name": "stdout",
     "output_type": "stream",
     "text": [
      "[2023-10-30 20:52:26] {parser.py:199} INFO - collecting meta for track:\"Signifying Blues - Extended Version\" artist:\"Bo Diddley\"\n",
      "[2023-10-30 20:52:26] {parser.py:199} INFO - collecting meta for track:\"Interstate\" artist:\"Chris Proctor\"\n",
      "[2023-10-30 20:52:26] {parser.py:199} INFO - collecting meta for track:\"Jessie, Let Me Wipe Your Feet\" artist:\"Rory Block\"\n",
      "[2023-10-30 20:52:26] {parser.py:199} INFO - collecting meta for track:\"WHITE LIGHT WHITE HEAT\" artist:\"Masaharu Fukuyama\"\n",
      "[2023-10-30 20:52:26] {parser.py:199} INFO - collecting meta for track:\"Short Haired Woman\" artist:\"Lightnin' Hopkins\"\n",
      "[2023-10-30 20:52:26] {parser.py:199} INFO - collecting meta for track:\"I'm Sorry\" artist:\"Bo Diddley\"\n",
      "[2023-10-30 20:52:26] {parser.py:199} INFO - collecting meta for track:\"Goin' To Dallas To See My Pony Run\" artist:\"Lightnin' Hopkins\"\n",
      "[2023-10-30 20:52:26] {parser.py:199} INFO - collecting meta for track:\"Death Bells\" artist:\"Lightnin' Hopkins\"\n",
      "[2023-10-30 20:52:27] {parser.py:205} INFO - no song found for track:\"I'm Sorry\" artist:\"Bo Diddley\"\n",
      "[2023-10-30 20:52:27] {parser.py:199} INFO - collecting meta for track:\"Automobile Blues\" artist:\"Lightnin' Hopkins\"\n"
     ]
    }
   ],
   "source": [
    "for genre, genre_tracks in tracks_df.groupby(\"genre\"):\n",
    "    prefix = f\"tracks/{genre}\"\n",
    "    \n",
    "    song_list = genre_tracks[[\"name\", \"artist\"]].values.tolist()\n",
    "    tracks_meta = parser.parse(song_list)\n",
    "    tracks_meta = list(filter(lambda x: x is not None, tracks_meta))\n",
    "\n",
    "    parser.load_to_s3(\n",
    "        schema=SCHEMA,\n",
    "        host=HOST,\n",
    "        bucket_name=BUCKET_NAME,\n",
    "        tracks_meta=tracks_meta,\n",
    "        aws_access_key_id=AWS_ACCESS_KEY_ID,\n",
    "        aws_secret_access_key=AWS_SECRET_ACCESS_KEY,\n",
    "        prefix=prefix,\n",
    "    )\n",
    "    \n",
    "    list_to_download = [(x.track_name, x.artist_name[0]) for x in tracks_meta]\n",
    "    downloader.download_and_save_audio(\n",
    "        song_list=list_to_download,\n",
    "        schema=SCHEMA,\n",
    "        host=HOST,\n",
    "        bucket_name=BUCKET_NAME,\n",
    "        prefix=prefix,\n",
    "        aws_access_key_id=AWS_ACCESS_KEY_ID,\n",
    "        aws_secret_access_key=AWS_SECRET_ACCESS_KEY,\n",
    "    )\n",
    "    \n",
    "    time.sleep(60 * 10)"
   ]
  }
 ],
 "metadata": {
  "kernelspec": {
   "display_name": "project-ha1ywNtr-py3.10",
   "language": "python",
   "name": "python3"
  },
  "language_info": {
   "codemirror_mode": {
    "name": "ipython",
    "version": 3
   },
   "file_extension": ".py",
   "mimetype": "text/x-python",
   "name": "python",
   "nbconvert_exporter": "python",
   "pygments_lexer": "ipython3",
   "version": "3.10.12"
  }
 },
 "nbformat": 4,
 "nbformat_minor": 2
}
