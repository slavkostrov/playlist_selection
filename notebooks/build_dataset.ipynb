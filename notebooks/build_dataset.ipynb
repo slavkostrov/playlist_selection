{
 "cells": [
  {
   "cell_type": "code",
   "execution_count": 1,
   "metadata": {},
   "outputs": [],
   "source": [
    "\"\"\"Build initial dataset and write it to S3.\"\"\"\n",
    "import pandas as pd\n",
    "\n",
    "with open(\"../data/tracks.txt\") as fin:\n",
    "    tracks = [list(map(str.strip, line.split(\"\\t\"))) for line in fin.readlines()]\n",
    "    \n",
    "tracks_df = pd.DataFrame(tracks, columns=[\"genre\", \"artist\", \"name\"])"
   ]
  },
  {
   "cell_type": "code",
   "execution_count": 2,
   "metadata": {},
   "outputs": [
    {
     "data": {
      "text/html": [
       "<div>\n",
       "<style scoped>\n",
       "    .dataframe tbody tr th:only-of-type {\n",
       "        vertical-align: middle;\n",
       "    }\n",
       "\n",
       "    .dataframe tbody tr th {\n",
       "        vertical-align: top;\n",
       "    }\n",
       "\n",
       "    .dataframe thead th {\n",
       "        text-align: right;\n",
       "    }\n",
       "</style>\n",
       "<table border=\"1\" class=\"dataframe\">\n",
       "  <thead>\n",
       "    <tr style=\"text-align: right;\">\n",
       "      <th></th>\n",
       "      <th>genre</th>\n",
       "      <th>artist</th>\n",
       "      <th>name</th>\n",
       "    </tr>\n",
       "  </thead>\n",
       "  <tbody>\n",
       "    <tr>\n",
       "      <th>19795</th>\n",
       "      <td>latino</td>\n",
       "      <td>Greg Giraldo</td>\n",
       "      <td>Greg Giraldo</td>\n",
       "    </tr>\n",
       "    <tr>\n",
       "      <th>7873</th>\n",
       "      <td>drum-and-bass</td>\n",
       "      <td>Heavy Rotation</td>\n",
       "      <td>Roni Size</td>\n",
       "    </tr>\n",
       "    <tr>\n",
       "      <th>4352</th>\n",
       "      <td>children</td>\n",
       "      <td>The Mice Go Marching</td>\n",
       "      <td>Hap Palmer</td>\n",
       "    </tr>\n",
       "    <tr>\n",
       "      <th>21250</th>\n",
       "      <td>minimal-techno</td>\n",
       "      <td>Ghetto Platypus</td>\n",
       "      <td>John Tejada</td>\n",
       "    </tr>\n",
       "    <tr>\n",
       "      <th>8641</th>\n",
       "      <td>edm</td>\n",
       "      <td>Down Time</td>\n",
       "      <td>Jr. Gone Wild</td>\n",
       "    </tr>\n",
       "  </tbody>\n",
       "</table>\n",
       "</div>"
      ],
      "text/plain": [
       "                genre                artist           name\n",
       "19795          latino          Greg Giraldo   Greg Giraldo\n",
       "7873    drum-and-bass        Heavy Rotation      Roni Size\n",
       "4352         children  The Mice Go Marching     Hap Palmer\n",
       "21250  minimal-techno       Ghetto Platypus    John Tejada\n",
       "8641              edm             Down Time  Jr. Gone Wild"
      ]
     },
     "execution_count": 2,
     "metadata": {},
     "output_type": "execute_result"
    }
   ],
   "source": [
    "tracks_df.sample(5)"
   ]
  },
  {
   "cell_type": "code",
   "execution_count": 3,
   "metadata": {},
   "outputs": [],
   "source": []
  },
  {
   "cell_type": "code",
   "execution_count": null,
   "metadata": {},
   "outputs": [],
   "source": []
  },
  {
   "cell_type": "code",
   "execution_count": null,
   "metadata": {},
   "outputs": [],
   "source": []
  }
 ],
 "metadata": {
  "kernelspec": {
   "display_name": "project-ha1ywNtr-py3.10",
   "language": "python",
   "name": "python3"
  },
  "language_info": {
   "codemirror_mode": {
    "name": "ipython",
    "version": 3
   },
   "file_extension": ".py",
   "mimetype": "text/x-python",
   "name": "python",
   "nbconvert_exporter": "python",
   "pygments_lexer": "ipython3",
   "version": "3.10.12"
  }
 },
 "nbformat": 4,
 "nbformat_minor": 2
}
