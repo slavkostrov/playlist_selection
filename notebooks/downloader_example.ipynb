{
 "cells": [
  {
   "cell_type": "code",
   "execution_count": 4,
   "metadata": {},
   "outputs": [],
   "source": [
    "\"\"\"Notebook with YouTubeDownloader examples.\"\"\"\n",
    "from src.downloading import YouTubeDownloader"
   ]
  },
  {
   "cell_type": "code",
   "execution_count": 8,
   "metadata": {},
   "outputs": [],
   "source": [
    "song_data = [\n",
    "    (\"Kanye West\", \"Dark Fantasy\"),\n",
    "    (\"Lil Peep\", \"Beamer Boy\"),\n",
    "    (\"Lil Peep\", \"Life is Beautiful\")\n",
    "    ]"
   ]
  },
  {
   "cell_type": "code",
   "execution_count": 10,
   "metadata": {},
   "outputs": [],
   "source": [
    "aws_key = \"key\"\n",
    "aws_secret_key = \"secret\"\n",
    "schema = \"https\"\n",
    "host = \"storage.yandexcloud.net\"\n",
    "bucket_name=\"bucket\""
   ]
  },
  {
   "cell_type": "code",
   "execution_count": 35,
   "metadata": {},
   "outputs": [],
   "source": [
    "yt = YouTubeDownloader()"
   ]
  },
  {
   "cell_type": "markdown",
   "metadata": {},
   "source": [
    "### Можно по отдельности качать песни и сохранять их на S3"
   ]
  },
  {
   "cell_type": "code",
   "execution_count": 32,
   "metadata": {},
   "outputs": [
    {
     "name": "stderr",
     "output_type": "stream",
     "text": [
      "Unexpected renderer encountered.\n",
      "Renderer name: dict_keys(['reelShelfRenderer'])\n",
      "Search term: Dark Fantasy by Kanye West\n",
      "Please open an issue at https://github.com/pytube/pytube/issues and provide this log output.\n",
      "Unexpected renderer encountered.\n",
      "Renderer name: dict_keys(['reelShelfRenderer'])\n",
      "Search term: Dark Fantasy by Kanye West\n",
      "Please open an issue at https://github.com/pytube/pytube/issues and provide this log output.\n"
     ]
    }
   ],
   "source": [
    "yt.download_single_audio(song_data[0])"
   ]
  },
  {
   "cell_type": "code",
   "execution_count": 38,
   "metadata": {},
   "outputs": [
    {
     "data": {
      "text/plain": [
       "'https://storage.yandexcloud.net/dganych-mlops'"
      ]
     },
     "execution_count": 38,
     "metadata": {},
     "output_type": "execute_result"
    }
   ],
   "source": [
    "yt.save_to_s3(schema=schema, song_list=song_data[0], host=host, bucket_name=bucket_name, aws_access_key_id=aws_key, aws_secret_access_key=aws_secret_key)"
   ]
  },
  {
   "cell_type": "code",
   "execution_count": 97,
   "metadata": {},
   "outputs": [],
   "source": [
    "yt.download_and_save_audio(song_list=song_data[1], schema=schema, host=host, bucket_name=bucket_name, aws_access_key_id=aws_key, aws_secret_access_key=aws_secret_key)"
   ]
  },
  {
   "cell_type": "markdown",
   "metadata": {},
   "source": [
    "### А можно передать список песен и закинуть все на S3 разом"
   ]
  },
  {
   "cell_type": "code",
   "execution_count": 36,
   "metadata": {},
   "outputs": [],
   "source": [
    "yt.download_audios(song_list=song_data, schema=schema, host=host, bucket_name=bucket_name, aws_access_key_id=aws_key, aws_secret_access_key=aws_secret_key, max_workers_num=3)"
   ]
  }
 ],
 "metadata": {
  "interpreter": {
   "hash": "aee8b7b246df8f9039afb4144a1f6fd8d2ca17a180786b69acc140d282b71a49"
  },
  "kernelspec": {
   "display_name": "Python 3.10.4 64-bit",
   "language": "python",
   "name": "python3"
  },
  "language_info": {
   "codemirror_mode": {
    "name": "ipython",
    "version": 3
   },
   "file_extension": ".py",
   "mimetype": "text/x-python",
   "name": "python",
   "nbconvert_exporter": "python",
   "pygments_lexer": "ipython3",
   "version": "3.10.12"
  },
  "orig_nbformat": 4
 },
 "nbformat": 4,
 "nbformat_minor": 2
}
