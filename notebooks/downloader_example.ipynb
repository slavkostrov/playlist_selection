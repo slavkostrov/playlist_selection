{
 "cells": [
  {
   "cell_type": "code",
   "execution_count": 7,
   "metadata": {},
   "outputs": [
    {
     "ename": "ImportError",
     "evalue": "attempted relative import with no known parent package",
     "output_type": "error",
     "traceback": [
      "\u001b[0;31m---------------------------------------------------------------------------\u001b[0m",
      "\u001b[0;31mImportError\u001b[0m                               Traceback (most recent call last)",
      "\u001b[1;32m/Users/daniil.ganych/github/playlist_selection/notebooks/downloader_example.ipynb Cell 1'\u001b[0m in \u001b[0;36m<cell line: 1>\u001b[0;34m()\u001b[0m\n\u001b[0;32m----> <a href='vscode-notebook-cell:/Users/daniil.ganych/github/playlist_selection/notebooks/downloader_example.ipynb#ch0000000?line=0'>1</a>\u001b[0m \u001b[39mfrom\u001b[39;00m \u001b[39m.\u001b[39;00m\u001b[39m.\u001b[39;00m\u001b[39msrc\u001b[39;00m\u001b[39m.\u001b[39;00m\u001b[39mdownloading\u001b[39;00m \u001b[39mimport\u001b[39;00m downloader\n",
      "\u001b[0;31mImportError\u001b[0m: attempted relative import with no known parent package"
     ]
    }
   ],
   "source": [
    "from ..src.downloading.downloader import YouTubeDownloader"
   ]
  },
  {
   "cell_type": "code",
   "execution_count": 1,
   "metadata": {},
   "outputs": [],
   "source": [
    "import os"
   ]
  },
  {
   "cell_type": "code",
   "execution_count": 2,
   "metadata": {},
   "outputs": [],
   "source": [
    "os.chdir(\"../src\")"
   ]
  },
  {
   "cell_type": "code",
   "execution_count": 92,
   "metadata": {},
   "outputs": [],
   "source": [
    "from downloading.downloader import YouTubeDownloader"
   ]
  },
  {
   "cell_type": "code",
   "execution_count": 93,
   "metadata": {},
   "outputs": [],
   "source": [
    "from downloading import downloader"
   ]
  },
  {
   "cell_type": "code",
   "execution_count": 5,
   "metadata": {},
   "outputs": [],
   "source": [
    "import importlib"
   ]
  },
  {
   "cell_type": "code",
   "execution_count": 98,
   "metadata": {},
   "outputs": [
    {
     "ename": "FileNotFoundError",
     "evalue": "[Errno 2] No such file or directory: 'logger_config/logging_config.yml'",
     "output_type": "error",
     "traceback": [
      "\u001b[0;31m---------------------------------------------------------------------------\u001b[0m",
      "\u001b[0;31mFileNotFoundError\u001b[0m                         Traceback (most recent call last)",
      "\u001b[1;32m/Users/daniil.ganych/github/playlist_selection/notebooks/downloader_example.ipynb Cell 7'\u001b[0m in \u001b[0;36m<cell line: 1>\u001b[0;34m()\u001b[0m\n\u001b[0;32m----> <a href='vscode-notebook-cell:/Users/daniil.ganych/github/playlist_selection/notebooks/downloader_example.ipynb#ch0000032?line=0'>1</a>\u001b[0m importlib\u001b[39m.\u001b[39;49mreload(downloader)\n",
      "File \u001b[0;32m/Library/Frameworks/Python.framework/Versions/3.10/lib/python3.10/importlib/__init__.py:169\u001b[0m, in \u001b[0;36mreload\u001b[0;34m(module)\u001b[0m\n\u001b[1;32m    <a href='file:///Library/Frameworks/Python.framework/Versions/3.10/lib/python3.10/importlib/__init__.py?line=166'>167</a>\u001b[0m \u001b[39mif\u001b[39;00m spec \u001b[39mis\u001b[39;00m \u001b[39mNone\u001b[39;00m:\n\u001b[1;32m    <a href='file:///Library/Frameworks/Python.framework/Versions/3.10/lib/python3.10/importlib/__init__.py?line=167'>168</a>\u001b[0m     \u001b[39mraise\u001b[39;00m \u001b[39mModuleNotFoundError\u001b[39;00m(\u001b[39mf\u001b[39m\u001b[39m\"\u001b[39m\u001b[39mspec not found for the module \u001b[39m\u001b[39m{\u001b[39;00mname\u001b[39m!r}\u001b[39;00m\u001b[39m\"\u001b[39m, name\u001b[39m=\u001b[39mname)\n\u001b[0;32m--> <a href='file:///Library/Frameworks/Python.framework/Versions/3.10/lib/python3.10/importlib/__init__.py?line=168'>169</a>\u001b[0m _bootstrap\u001b[39m.\u001b[39;49m_exec(spec, module)\n\u001b[1;32m    <a href='file:///Library/Frameworks/Python.framework/Versions/3.10/lib/python3.10/importlib/__init__.py?line=169'>170</a>\u001b[0m \u001b[39m# The module may have replaced itself in sys.modules!\u001b[39;00m\n\u001b[1;32m    <a href='file:///Library/Frameworks/Python.framework/Versions/3.10/lib/python3.10/importlib/__init__.py?line=170'>171</a>\u001b[0m \u001b[39mreturn\u001b[39;00m sys\u001b[39m.\u001b[39mmodules[name]\n",
      "File \u001b[0;32m<frozen importlib._bootstrap>:619\u001b[0m, in \u001b[0;36m_exec\u001b[0;34m(spec, module)\u001b[0m\n",
      "File \u001b[0;32m<frozen importlib._bootstrap_external>:883\u001b[0m, in \u001b[0;36mexec_module\u001b[0;34m(self, module)\u001b[0m\n",
      "File \u001b[0;32m<frozen importlib._bootstrap>:241\u001b[0m, in \u001b[0;36m_call_with_frames_removed\u001b[0;34m(f, *args, **kwds)\u001b[0m\n",
      "File \u001b[0;32m~/github/playlist_selection/src/downloading/downloader.py:21\u001b[0m, in \u001b[0;36m<module>\u001b[0;34m\u001b[0m\n\u001b[1;32m     <a href='file:///Users/daniil.ganych/github/playlist_selection/src/downloading/downloader.py?line=17'>18</a>\u001b[0m \u001b[39mfrom\u001b[39;00m \u001b[39mabc\u001b[39;00m \u001b[39mimport\u001b[39;00m ABC, abstractmethod\n\u001b[1;32m     <a href='file:///Users/daniil.ganych/github/playlist_selection/src/downloading/downloader.py?line=19'>20</a>\u001b[0m LOGGER \u001b[39m=\u001b[39m logging\u001b[39m.\u001b[39mgetLogger(\u001b[39m\"\u001b[39m\u001b[39mdownloader_logger\u001b[39m\u001b[39m\"\u001b[39m)\n\u001b[0;32m---> <a href='file:///Users/daniil.ganych/github/playlist_selection/src/downloading/downloader.py?line=20'>21</a>\u001b[0m \u001b[39mwith\u001b[39;00m \u001b[39mopen\u001b[39;49m(\u001b[39m\"\u001b[39;49m\u001b[39mlogger_config/logging_config.yml\u001b[39;49m\u001b[39m\"\u001b[39;49m) \u001b[39mas\u001b[39;00m fin:\n\u001b[1;32m     <a href='file:///Users/daniil.ganych/github/playlist_selection/src/downloading/downloader.py?line=21'>22</a>\u001b[0m     logging\u001b[39m.\u001b[39mconfig\u001b[39m.\u001b[39mdictConfig(yaml\u001b[39m.\u001b[39msafe_load(fin))\n\u001b[1;32m     <a href='file:///Users/daniil.ganych/github/playlist_selection/src/downloading/downloader.py?line=23'>24</a>\u001b[0m \u001b[39mclass\u001b[39;00m \u001b[39mBaseDownloader\u001b[39;00m(ABC):\n",
      "\u001b[0;31mFileNotFoundError\u001b[0m: [Errno 2] No such file or directory: 'logger_config/logging_config.yml'"
     ]
    }
   ],
   "source": [
    "importlib.reload(downloader)"
   ]
  },
  {
   "cell_type": "code",
   "execution_count": 10,
   "metadata": {},
   "outputs": [],
   "source": [
    "song_data = [\n",
    "    (\"Kanye West\", \"Dark Fantasy\"),\n",
    "    (\"Lil Peep\", \"Beamer Boy\")\n",
    "    ]"
   ]
  },
  {
   "cell_type": "code",
   "execution_count": 95,
   "metadata": {},
   "outputs": [],
   "source": [
    "yt = downloader.YouTubeDownloader()"
   ]
  },
  {
   "cell_type": "code",
   "execution_count": 35,
   "metadata": {},
   "outputs": [],
   "source": [
    "aws_key = \"key\"\n",
    "aws_secret_key = \"secret\"\n",
    "schema = \"https\"\n",
    "host = \"storage.yandexcloud.net\"\n",
    "bucket_name=\"dganych-mlops\""
   ]
  },
  {
   "cell_type": "code",
   "execution_count": 32,
   "metadata": {},
   "outputs": [
    {
     "name": "stderr",
     "output_type": "stream",
     "text": [
      "Unexpected renderer encountered.\n",
      "Renderer name: dict_keys(['reelShelfRenderer'])\n",
      "Search term: Dark Fantasy by Kanye West\n",
      "Please open an issue at https://github.com/pytube/pytube/issues and provide this log output.\n",
      "Unexpected renderer encountered.\n",
      "Renderer name: dict_keys(['reelShelfRenderer'])\n",
      "Search term: Dark Fantasy by Kanye West\n",
      "Please open an issue at https://github.com/pytube/pytube/issues and provide this log output.\n"
     ]
    }
   ],
   "source": [
    "yt.download_single_audio(song_data[0])"
   ]
  },
  {
   "cell_type": "code",
   "execution_count": 38,
   "metadata": {},
   "outputs": [
    {
     "data": {
      "text/plain": [
       "'https://storage.yandexcloud.net/dganych-mlops'"
      ]
     },
     "execution_count": 38,
     "metadata": {},
     "output_type": "execute_result"
    }
   ],
   "source": [
    "yt.save_to_s3(schema=schema, song_list=song_data[0], host=host, bucket_name=bucket_name, aws_access_key_id=aws_key, aws_secret_access_key=aws_secret_key)"
   ]
  },
  {
   "cell_type": "code",
   "execution_count": 97,
   "metadata": {},
   "outputs": [],
   "source": [
    "yt.download_and_save_audio(song_list=song_data[1], schema=schema, host=host, bucket_name=bucket_name, aws_access_key_id=aws_key, aws_secret_access_key=aws_secret_key)"
   ]
  },
  {
   "cell_type": "code",
   "execution_count": 96,
   "metadata": {},
   "outputs": [],
   "source": [
    "yt.download_audios(song_list=song_data, schema=schema, host=host, bucket_name=bucket_name, aws_access_key_id=aws_key, aws_secret_access_key=aws_secret_key, max_workers_num=2)"
   ]
  }
 ],
 "metadata": {
  "interpreter": {
   "hash": "aee8b7b246df8f9039afb4144a1f6fd8d2ca17a180786b69acc140d282b71a49"
  },
  "kernelspec": {
   "display_name": "Python 3.10.4 64-bit",
   "language": "python",
   "name": "python3"
  },
  "language_info": {
   "codemirror_mode": {
    "name": "ipython",
    "version": 3
   },
   "file_extension": ".py",
   "mimetype": "text/x-python",
   "name": "python",
   "nbconvert_exporter": "python",
   "pygments_lexer": "ipython3",
   "version": "3.10.4"
  },
  "orig_nbformat": 4
 },
 "nbformat": 4,
 "nbformat_minor": 2
}
