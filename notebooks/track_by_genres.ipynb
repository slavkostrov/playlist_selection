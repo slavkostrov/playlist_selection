{
 "cells": [
  {
   "cell_type": "code",
   "execution_count": 69,
   "metadata": {},
   "outputs": [
    {
     "name": "stderr",
     "output_type": "stream",
     "text": [
      "/home/slava/.cache/pypoetry/virtualenvs/project-ha1ywNtr-py3.10/lib/python3.10/site-packages/tqdm/auto.py:21: TqdmWarning: IProgress not found. Please update jupyter and ipywidgets. See https://ipywidgets.readthedocs.io/en/stable/user_install.html\n",
      "  from .autonotebook import tqdm as notebook_tqdm\n"
     ]
    }
   ],
   "source": [
    "\"\"\"Collect tracks list.\"\"\"\n",
    "import numpy as np\n",
    "import pandas as pd\n",
    "from tqdm.auto import tqdm\n",
    "\n",
    "from playlist_selection.tracks.constants import Genres"
   ]
  },
  {
   "cell_type": "code",
   "execution_count": 43,
   "metadata": {},
   "outputs": [],
   "source": [
    "from playlist_selection.parsing import SpotifyParser\n",
    "\n",
    "client_id = \"\"\n",
    "client_secret = \"\"\n",
    "\n",
    "parser = SpotifyParser(\n",
    "    client_id=client_id,\n",
    "    client_secret=client_secret,\n",
    ")"
   ]
  },
  {
   "cell_type": "code",
   "execution_count": 76,
   "metadata": {},
   "outputs": [
    {
     "name": "stderr",
     "output_type": "stream",
     "text": [
      "100%|██████████| 126/126 [22:38<00:00, 10.78s/it]\n"
     ]
    }
   ],
   "source": [
    "np.random.seed(42)\n",
    "\n",
    "OFFSETS = [0, 50, 100, 150, 200]\n",
    "DATES = pd.date_range(\"1990-01-01\", \"2025-01-01\", freq=\"5Y\")\n",
    "\n",
    "track_collection = []\n",
    "for genre in tqdm(Genres):\n",
    "    genre_query = f'genre:\"{genre.value}\"'\n",
    "    \n",
    "    for start_date in DATES:\n",
    "        start_date = start_date.date()\n",
    "        end_date = start_date + pd.to_timedelta(365 * 5, unit=\"days\")\n",
    "        query = f'{genre_query} year:\"{start_date.year}\"-\"{end_date.year}\"'\n",
    "        \n",
    "        for i, offset in enumerate(reversed(OFFSETS), start=1): # quavo   \n",
    "            results = parser.sp.search(\n",
    "                q=query, \n",
    "                type='track',\n",
    "                limit=50,\n",
    "                offset=offset,\n",
    "            )\n",
    "            \n",
    "            sample_size = min(3 * i, len(results[\"tracks\"][\"items\"]))\n",
    "            if sample_size == 0:\n",
    "                continue\n",
    "\n",
    "            sample = np.random.choice(results[\"tracks\"][\"items\"], sample_size, replace=False)\n",
    "            \n",
    "            for track in sample:\n",
    "                artist = track[\"artists\"][0][\"name\"]\n",
    "                name = track[\"name\"]\n",
    "                track_collection.append((genre.value, name, artist))"
   ]
  },
  {
   "cell_type": "code",
   "execution_count": 77,
   "metadata": {},
   "outputs": [],
   "source": [
    "with open(\"../data/tracks.txt\", \"w\") as fout:\n",
    "    for line in track_collection:\n",
    "        line = \"\\t\".join(line)\n",
    "        print(line, file=fout)"
   ]
  }
 ],
 "metadata": {
  "kernelspec": {
   "display_name": "project-ha1ywNtr-py3.10",
   "language": "python",
   "name": "python3"
  },
  "language_info": {
   "codemirror_mode": {
    "name": "ipython",
    "version": 3
   },
   "file_extension": ".py",
   "mimetype": "text/x-python",
   "name": "python",
   "nbconvert_exporter": "python",
   "pygments_lexer": "ipython3",
   "version": "3.10.12"
  }
 },
 "nbformat": 4,
 "nbformat_minor": 2
}
